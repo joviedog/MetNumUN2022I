{
  "cells": [
    {
      "cell_type": "markdown",
      "metadata": {
        "id": "view-in-github",
        "colab_type": "text"
      },
      "source": [
        "<a href=\"https://colab.research.google.com/github/Adrian-ACI/MetNumUN2021II/blob/master/Lab14/Group6AlgorithmicToolboxWeek3SolvingNonLinearAlgebraicEquations.ipynb\" target=\"_parent\"><img src=\"https://colab.research.google.com/assets/colab-badge.svg\" alt=\"Open In Colab\"/></a>"
      ]
    },
    {
      "cell_type": "markdown",
      "metadata": {
        "id": "MtYgxpOB4IJF"
      },
      "source": [
        "# Part I. Root-finding. Newton's iteration."
      ]
    },
    {
      "cell_type": "markdown",
      "metadata": {
        "id": "jT_V167r4IJO"
      },
      "source": [
        "Write a function which performs Newton's iteration for a given function $f(x)$ with known derivative $f'(x)$. Your function should find the root of $f(x)$ with a predefined absolute accuracy $\\epsilon$. "
      ]
    },
    {
      "cell_type": "code",
      "execution_count": null,
      "metadata": {
        "id": "Z2Ub8nva4IJP"
      },
      "outputs": [],
      "source": [
        "def newton_iteration(f, fder, x0, eps=1e-5, maxiter=1000):\n",
        "    \"\"\"Find a root of $f(x) = 0$ via Newton's iteration starting from x0.\n",
        "    \n",
        "    Parameters\n",
        "    ----------\n",
        "    f : callable\n",
        "        The function to find a root of.\n",
        "    fder : callable\n",
        "        The derivative of `f`.\n",
        "    x0 : float\n",
        "        Initial value for the Newton's iteration.\n",
        "    eps : float\n",
        "        The target accuracy. \n",
        "        The iteration stops when the distance between successive iterates is below `eps`.\n",
        "        Default is 1e-5.\n",
        "    maxiter : int\n",
        "        The maximum number of iterations (default is 1000.)\n",
        "        Iterations terminate if the number of iterations exceeds `maxiter`.\n",
        "        This parameter is only needed to avoid infinite loops if iterations wander off.\n",
        "        \n",
        "    Returns\n",
        "    -------\n",
        "    x : float\n",
        "        The estimate for the root.\n",
        "    niter : int\n",
        "        The number of iterations.\n",
        "    \"\"\"\n",
        "    # ... ENTER YOUR CODE HERE ...\n",
        "    \n",
        "    curve = x0 - f(x0)/fder(x0)\n",
        "    prev = x0\n",
        "    \n",
        "    for _ in range(maxiter):\n",
        "        if(abs(curve-prev) <= eps):\n",
        "            break\n",
        "        prev = curve\n",
        "        curve = curve - f(curve) / fder(curve)\n",
        "        \n",
        "    return curve"
      ]
    },
    {
      "cell_type": "markdown",
      "metadata": {
        "id": "ibfEDXMf4IJT"
      },
      "source": [
        "### Test I.1 \n",
        "\n",
        "Test your implementation on a simple example, $f(x) = x^2 - 1$ or similar. (20% of the total grade)"
      ]
    },
    {
      "cell_type": "code",
      "execution_count": null,
      "metadata": {
        "id": "W2lrIi5l4IJU"
      },
      "outputs": [],
      "source": [
        "# ... ENTER YOUR CODE HERE ...\n",
        "\n",
        "import numpy as np\n",
        "from numpy.testing import assert_allclose"
      ]
    },
    {
      "cell_type": "code",
      "execution_count": null,
      "metadata": {
        "id": "y2IEmFHF4IJV"
      },
      "outputs": [],
      "source": [
        "fx = lambda x : x**2-1\n",
        "fxder = lambda x : 2*x\n",
        "\n",
        "randgen = np.random.RandomState(1234)\n",
        "a = randgen.uniform(0, 10, size = (2,10))\n",
        "\n",
        "for x0 in a[0]:\n",
        "    assert_allclose(1, newton_iteration(fx, fxder, x0))\n",
        "\n",
        "for x0 in a[1]:\n",
        "    assert_allclose(-1, newton_iteration(fx, fxder, -x0))"
      ]
    },
    {
      "cell_type": "markdown",
      "metadata": {
        "id": "HVCW4hhV4IJW"
      },
      "source": [
        "### Test I.2\n",
        "\n",
        "Now consider a function which has a multiple root. Take $f(x) = (x^2 - 1)^2$ as an example. Implement a modified Newton's iteraion,\n",
        "\n",
        "$$\n",
        "x_{n+1} = x_{n} - m \\frac{f(x_n)}{f'(x_n)}\n",
        "$$\n",
        "\n",
        "and vary $m= 1, 2, 3, 4, 5$. Check the number of iterations required for convergence within a fixed $\\epsilon$. Are your observations consistent with the expectation that the convergence is quadratic is $m$ equals the multiplicity of the root, and is linear otherwise? (40% of the total grade)"
      ]
    },
    {
      "cell_type": "code",
      "execution_count": null,
      "metadata": {
        "id": "D0hMvhyz4IJY"
      },
      "outputs": [],
      "source": [
        "# ... ENTER YOUR CODE HERE ...\n",
        "def modified_newton_iter(f, fder, x0, m=1, eps=1e-5, maxiter=1000):\n",
        "    curve = x0 - m*f(x0)/fder(x0)\n",
        "    prev = x0\n",
        "    \n",
        "    for _ in range(maxiter):\n",
        "        if(abs(curve-prev) <= eps):\n",
        "            break\n",
        "        prev = curve\n",
        "        curve = curve - m*f(curve)/fder(curve)\n",
        "    \n",
        "    return curve"
      ]
    },
    {
      "cell_type": "code",
      "execution_count": null,
      "metadata": {
        "id": "yvQ7OcsE4IJZ"
      },
      "outputs": [],
      "source": [
        "def calculate_iter(f, fder, x0, m=1, eps=1e-5, maxiter=2**20):\n",
        "    \n",
        "    curve = x0 - m*f(x0)/fder(x0)\n",
        "    prev = x0\n",
        "    n = 1\n",
        "    \n",
        "    while abs(curve - prev) > eps and n < maxiter:\n",
        "        prev = curve\n",
        "        curve = curve - m*f(curve)/fder(curve)\n",
        "        n = n+1\n",
        "    if n != maxiter:\n",
        "        return n\n",
        "    \n",
        "    else:\n",
        "        return \"not converges\""
      ]
    },
    {
      "cell_type": "code",
      "execution_count": null,
      "metadata": {
        "id": "yYSPhjXV4IJa"
      },
      "outputs": [],
      "source": [
        "fx = lambda x: (x-1)**2*(x+1)**2\n",
        "fxder = lambda x: 4*(x-1)*(x+1)*x\n",
        "\n",
        "rand = np.random.RandomState(1234)\n",
        "a = rand.uniform(0, 10, size = (2,10))\n",
        "\n",
        "for x0 in a[0]:\n",
        "    assert_allclose(1, modified_newton_iter(fx, fxder, x0, 2))\n",
        "\n",
        "for x0 in a[1]:\n",
        "    assert_allclose(-1, modified_newton_iter(fx, fxder, -x0, 2))"
      ]
    },
    {
      "cell_type": "code",
      "execution_count": null,
      "metadata": {
        "colab": {
          "base_uri": "https://localhost:8080/"
        },
        "id": "aaCif7Y94IJb",
        "outputId": "953aa858-10ac-4f6d-b75e-300587806263"
      },
      "outputs": [
        {
          "output_type": "stream",
          "name": "stdout",
          "text": [
            "1 22\n",
            "2 6\n",
            "3 18\n",
            "4 not converges\n",
            "5 435397\n"
          ]
        }
      ],
      "source": [
        "for m in range(1,6):\n",
        "    print(m, calculate_iter(fx, fxder, a[1][1], m))"
      ]
    },
    {
      "cell_type": "markdown",
      "metadata": {
        "id": "2zhlaF-q4IJc"
      },
      "source": [
        "# Part II. Fixed-point iteration"
      ]
    },
    {
      "cell_type": "markdown",
      "metadata": {
        "id": "-qv_toKk4IJd"
      },
      "source": [
        "Consider the following equation:\n",
        "\n",
        "$$\n",
        "\\sqrt{x} = \\cos{x}\n",
        "$$\n",
        "\n",
        "Plot the left-hand side and right-hand side of this equation, and localize the root graphically. Estimate the location of the root by visual inspection of the plot.\n",
        "\n",
        "Write a function which finds the solution using fixed-point iteration up to a predefined accuracy $\\epsilon$. Compare the result to an estimate from a visual inspection.\n",
        "\n",
        "Next, rewrite the fixed-point problem in the form\n",
        "\n",
        "$$\n",
        "x = x - \\alpha f(x)\n",
        "$$\n",
        "\n",
        "where $\\alpha$ is the free parameter. Check the dependence of the number of iterations required for a given $\\epsilon$ on $\\alpha$. Compare your results to an expectation that the optimal value of $\\alpha$ is given by \n",
        "\n",
        "$$\n",
        "\\alpha = \\frac{2}{m + M}\n",
        "$$\n",
        "\n",
        "where $0 < m < |f'(x)| < M$ over the localization interval. (40% of the total grade)"
      ]
    },
    {
      "cell_type": "code",
      "execution_count": null,
      "metadata": {
        "colab": {
          "base_uri": "https://localhost:8080/",
          "height": 300
        },
        "id": "YPfJmbsE4IJe",
        "outputId": "bb87e3b5-063a-411c-b3df-1b59b1c11dc1"
      },
      "outputs": [
        {
          "output_type": "stream",
          "name": "stderr",
          "text": [
            "/usr/local/lib/python3.7/dist-packages/ipykernel_launcher.py:9: UserWarning: You have mixed positional and keyword arguments, some input may be discarded.\n",
            "  if __name__ == '__main__':\n"
          ]
        },
        {
          "output_type": "display_data",
          "data": {
            "image/png": "[encoded data removed]",
            "text/plain": [
              "<Figure size 432x288 with 1 Axes>"
            ]
          },
          "metadata": {
            "needs_background": "light"
          }
        }
      ],
      "source": [
        "# ... ENTER YOUR CODE HERE ...\n",
        "\n",
        "import matplotlib.pyplot as plt\n",
        "\n",
        "x = np.linspace(0.5, 5, 50)\n",
        "\n",
        "plt.plot(x, np.sqrt(x))\n",
        "plt.plot(x, np.cos(x))\n",
        "plt.legend([1, 2], labels=[\"sqrt(x)\", \"cos(x)\"])\n",
        "\n",
        "plt.show()"
      ]
    },
    {
      "cell_type": "code",
      "execution_count": null,
      "metadata": {
        "colab": {
          "base_uri": "https://localhost:8080/",
          "height": 265
        },
        "id": "eNMXhOFI4IJf",
        "outputId": "7038fc82-7a63-4a0e-aaa9-7ceed382ac60"
      },
      "outputs": [
        {
          "output_type": "display_data",
          "data": {
            "image/png": "[encoded data removed]",
            "text/plain": [
              "<Figure size 432x288 with 1 Axes>"
            ]
          },
          "metadata": {
            "needs_background": "light"
          }
        }
      ],
      "source": [
        "plt.plot(np.linspace(0.5, 1, 50), 1 - (np.sqrt(np.linspace(0.5, 1, 50)) + np.sin(np.linspace(0.5, 1, 50))))\n",
        "plt.legend(labels=[\"derevative of x-f(x)\"])\n",
        "plt.show()"
      ]
    },
    {
      "cell_type": "code",
      "execution_count": null,
      "metadata": {
        "id": "R4TvsgDr4IJg"
      },
      "outputs": [],
      "source": [
        "def fixed_point_sol(eps = 1e-5, alpha = 1):\n",
        "    \n",
        "    prev = 1.5 / 2\n",
        "    curve = prev - alpha*(np.sqrt(prev) - np.cos(prev))\n",
        "    eps1 = abs(curve - prev) * 10\n",
        "    num = 1\n",
        "    \n",
        "    while abs(curve - prev) > 0.25 * eps and curve > 0:\n",
        "        prev = curve\n",
        "        curve = curve - alpha*(np.sqrt(curve) - np.cos(curve))\n",
        "        num = num + 1\n",
        "        \n",
        "    return curve, num"
      ]
    },
    {
      "cell_type": "code",
      "execution_count": null,
      "metadata": {
        "colab": {
          "base_uri": "https://localhost:8080/"
        },
        "id": "xqq1gW8r4IJg",
        "outputId": "270ebc56-6d4f-4ba7-bb5c-b2d8260f2c25"
      },
      "outputs": [
        {
          "output_type": "stream",
          "name": "stdout",
          "text": [
            "0.1 (0.6417314556204897, 67)\n",
            "0.5 (0.6417156095558334, 12)\n",
            "1.0 (0.6417142154160496, 9)\n",
            "2.0 (-0.11760568315221742, 5)\n"
          ]
        }
      ],
      "source": [
        "for i in [0.1, 0.5, 1.0, 2.0]:\n",
        "    print(i, fixed_point_sol(alpha = i))"
      ]
    },
    {
      "cell_type": "code",
      "execution_count": null,
      "metadata": {
        "colab": {
          "base_uri": "https://localhost:8080/"
        },
        "id": "n99JTVSv4IJh",
        "outputId": "ae76060a-94df-42e3-f30e-120be1f01668"
      },
      "outputs": [
        {
          "output_type": "execute_result",
          "data": {
            "text/plain": [
              "(0.6417145071423276, 8)"
            ]
          },
          "metadata": {},
          "execution_count": 19
        }
      ],
      "source": [
        "fixed_point_sol(alpha = 2.0 / 3)"
      ]
    },
    {
      "cell_type": "markdown",
      "metadata": {
        "id": "nFUK-0Hg4IJh"
      },
      "source": [
        "# Part III. Newton's fractal.\n",
        "\n",
        "(Not graded). \n",
        "\n",
        "Consider the equation\n",
        "\n",
        "$$\n",
        "x^3 = 1\n",
        "$$\n",
        "\n",
        "It has three solutions in the complex plane, $x_k = \\exp(i\\, 2\\pi k/ 3)$, $k = 0, 1, 2$.\n",
        "\n",
        "The Newton's iterations converge to one of these solutions, depending on the starting point in the complex plane (to converge to a complex-valued solution, the iteration needs a complex-valued starting point).\n",
        "\n",
        "Plot the \\emph{basins of attraction} of these roots on the complex plane of $x$ (i.e., on the plane $\\mathrm{Re}x$ -- $\\mathrm{Im}x$). To this end, make a series of calculations, varying the initial conditions on a grid of points. \n",
        "Color the grid in three colors, according to the root, to which iterations converged."
      ]
    },
    {
      "cell_type": "code",
      "execution_count": null,
      "metadata": {
        "id": "YmgyfUiR4IJi"
      },
      "outputs": [],
      "source": [
        "import cmath\n",
        "\n",
        "def newt_frac(x0):\n",
        "    \n",
        "    eps=1e-5\n",
        "    maxiter=1000\n",
        "    cur = x0 - (x0**3-1)/3*x0**2\n",
        "    prev = x0\n",
        "    \n",
        "    for _ in range(maxiter):\n",
        "        if(abs(cur-prev)<=eps):\n",
        "            break\n",
        "        if(abs(cur-prev)>1e2):\n",
        "            return 0\n",
        "        prev = cur\n",
        "        cur = cur - (cur**3-1)/3*cur**2\n",
        "        \n",
        "    if abs(cur-cmath.exp(complex(0,2*np.pi*1/3)))<abs(cur-cmath.exp(complex(0,2*np.pi*2/3))):\n",
        "        return 1\n",
        "    else :\n",
        "        return 2"
      ]
    },
    {
      "cell_type": "code",
      "execution_count": null,
      "metadata": {
        "colab": {
          "base_uri": "https://localhost:8080/",
          "height": 265
        },
        "id": "iU2iLWDV4IJj",
        "outputId": "75b10370-4014-4867-cd74-e7927fcbb328"
      },
      "outputs": [
        {
          "output_type": "display_data",
          "data": {
            "image/png": "[encoded data removed]",
            "text/plain": [
              "<Figure size 432x288 with 1 Axes>"
            ]
          },
          "metadata": {
            "needs_background": "light"
          }
        }
      ],
      "source": [
        "x = np.linspace(-2, 2, 100)\n",
        "y = np.linspace(-2, 2, 100)\n",
        "\n",
        "for x0 in x:\n",
        "    for y0 in y:\n",
        "        fr = newt_frac(complex(x0,y0))\n",
        "        if fr==1:\n",
        "            plt.plot(x0, y0, marker='o', markersize=3, color='green')\n",
        "        elif fr==2:\n",
        "            plt.plot(x0, y0, marker='o', markersize=3, color='yellow')\n",
        "        \n",
        "roots_x = []\n",
        "roots_y = []\n",
        "for i in range(3):\n",
        "    z = cmath.exp(complex(0,2*np.pi*i/3))\n",
        "    roots_x.append(z.real)\n",
        "    roots_y.append(z.imag)\n",
        "\n",
        "plt.scatter(roots_x, roots_y, c='g')\n",
        "plt.show()"
      ]
    }
  ],
  "metadata": {
    "kernelspec": {
      "display_name": "Python 3",
      "language": "python",
      "name": "python3"
    },
    "language_info": {
      "codemirror_mode": {
        "name": "ipython",
        "version": 3
      },
      "file_extension": ".py",
      "mimetype": "text/x-python",
      "name": "python",
      "nbconvert_exporter": "python",
      "pygments_lexer": "ipython3",
      "version": "3.7.6"
    },
    "colab": {
      "name": "Group6AlgorithmicToolboxWeek3SolvingNonLinearAlgebraicEquations.ipynb",
      "provenance": [],
      "collapsed_sections": [],
      "include_colab_link": true
    }
  },
  "nbformat": 4,
  "nbformat_minor": 0
}